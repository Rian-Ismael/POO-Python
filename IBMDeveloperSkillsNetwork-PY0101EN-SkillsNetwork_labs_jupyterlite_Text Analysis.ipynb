{
  "metadata": {
    "language_info": {
      "codemirror_mode": {
        "name": "python",
        "version": 3
      },
      "file_extension": ".py",
      "mimetype": "text/x-python",
      "name": "python",
      "nbconvert_exporter": "python",
      "pygments_lexer": "ipython3",
      "version": "3.8"
    },
    "kernelspec": {
      "name": "python",
      "display_name": "Python (Pyodide)",
      "language": "python"
    }
  },
  "nbformat_minor": 4,
  "nbformat": 4,
  "cells": [
    {
      "cell_type": "code",
      "source": "#Press Shift+Enter to run the code\nclass TextAnalyzer(object):\n    \n    def __init__ (self, text):\n        # remove punctuation\n        formattedText = text.replace('.','').replace('!','').replace('?','').replace(',','')\n        \n        # make text lowercase\n        formattedText = formattedText.lower()\n        \n        self.fmtText = formattedText\n        \n    def freqAll(self):        \n        # split text into words\n        wordList = self.fmtText.split(' ')\n        \n        # Create dictionary\n        freqMap = {}\n        for word in set(wordList): # use set to remove duplicates in list\n            freqMap[word] = wordList.count(word)\n        \n        return freqMap\n    \n    def freqOf(self,word):\n        # get frequency map\n        freqDict = self.freqAll()\n        \n        if word in freqDict:\n            return freqDict[word]\n        else:\n            return 0",
      "metadata": {
        "trusted": true
      },
      "execution_count": 2,
      "outputs": []
    },
    {
      "cell_type": "code",
      "source": "givenstring=\"Lorem ipsum dolor! diam amet, consetetur Lorem magna. sed diam nonumy eirmod tempor. diam et labore? et diam magna. et diam amet.\"",
      "metadata": {
        "trusted": true
      },
      "execution_count": 6,
      "outputs": []
    },
    {
      "cell_type": "code",
      "source": "#Create an instance of TextAnalyzer Class.\nanalyzed = TextAnalyzer(givenstring)",
      "metadata": {
        "trusted": true
      },
      "execution_count": 7,
      "outputs": []
    },
    {
      "cell_type": "code",
      "source": "#the function that converts the data into lowercase\nprint(\"Formatted Text:\", analyzed.fmtText)",
      "metadata": {
        "trusted": true
      },
      "execution_count": 8,
      "outputs": [
        {
          "name": "stdout",
          "text": "Formatted Text: lorem ipsum dolor diam amet consetetur lorem magna sed diam nonumy eirmod tempor diam et labore et diam magna et diam amet\n",
          "output_type": "stream"
        }
      ]
    },
    {
      "cell_type": "code",
      "source": "#Call the function that counts the frequency of all unique words from the data.\nfreqMap = analyzed.freqAll()\nprint(freqMap)",
      "metadata": {
        "trusted": true
      },
      "execution_count": 9,
      "outputs": [
        {
          "name": "stdout",
          "text": "{'diam': 5, 'ipsum': 1, 'amet': 2, 'et': 3, 'dolor': 1, 'nonumy': 1, 'sed': 1, 'labore': 1, 'magna': 2, 'tempor': 1, 'eirmod': 1, 'lorem': 2, 'consetetur': 1}\n",
          "output_type": "stream"
        }
      ]
    },
    {
      "cell_type": "code",
      "source": "#Call the function that counts the frequency of specific word.\nword = \"lorem\"\nfrequency = analyzed.freqOf(word)\nprint(\"The word\",word,\"appears\",frequency,\"times.\")",
      "metadata": {
        "trusted": true
      },
      "execution_count": 10,
      "outputs": [
        {
          "name": "stdout",
          "text": "The word lorem appears 2 times.\n",
          "output_type": "stream"
        }
      ]
    },
    {
      "cell_type": "code",
      "source": "",
      "metadata": {},
      "execution_count": null,
      "outputs": []
    }
  ]
}