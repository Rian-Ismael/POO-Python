{
  "metadata": {
    "language_info": {
      "codemirror_mode": {
        "name": "python",
        "version": 3
      },
      "file_extension": ".py",
      "mimetype": "text/x-python",
      "name": "python",
      "nbconvert_exporter": "python",
      "pygments_lexer": "ipython3",
      "version": "3.8"
    },
    "kernelspec": {
      "name": "python",
      "display_name": "Python (Pyodide)",
      "language": "python"
    }
  },
  "nbformat_minor": 4,
  "nbformat": 4,
  "cells": [
    {
      "cell_type": "code",
      "source": "class Vehicle:\n    color = \"white\"\n\n    def __init__(self, max_speed, mileage):\n        self.max_speed = max_speed\n        self.mileage = mileage\n        self.seating_capacity = None\n\n    def assign_seating_capacity(self, seating_capacity):\n        self.seating_capacity = seating_capacity\n\n    def display_properties(self):\n        print(\"Properties of the Vehicle:\")\n        print(\"Color:\", self.color)\n        print(\"Maximum Speed:\", self.max_speed)\n        print(\"Mileage:\", self.mileage)\n        print(\"Seating Capacity:\", self.seating_capacity)",
      "metadata": {
        "trusted": true
      },
      "execution_count": 3,
      "outputs": []
    },
    {
      "cell_type": "code",
      "source": "# Creating objects of the Vehicle class\nvehicle1 = Vehicle(200, 50000)\nvehicle1.assign_seating_capacity(5)\nvehicle1.display_properties()\n\nvehicle2 = Vehicle(180, 75000)\nvehicle2.assign_seating_capacity(4)\nvehicle2.display_properties()",
      "metadata": {
        "trusted": true
      },
      "execution_count": 4,
      "outputs": [
        {
          "name": "stdout",
          "text": "Properties of the Vehicle:\nColor: white\nMaximum Speed: 200\nMileage: 50000\nSeating Capacity: 5\nProperties of the Vehicle:\nColor: white\nMaximum Speed: 180\nMileage: 75000\nSeating Capacity: 4\n",
          "output_type": "stream"
        }
      ]
    }
  ]
}